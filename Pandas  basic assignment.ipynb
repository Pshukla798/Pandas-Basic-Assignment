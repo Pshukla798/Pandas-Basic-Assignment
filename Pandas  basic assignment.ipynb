{
 "cells": [
  {
   "cell_type": "code",
   "execution_count": 22,
   "id": "02fa9f09-3986-4e22-8a3f-d9d89018540e",
   "metadata": {},
   "outputs": [],
   "source": [
    " # Q1.Create a Pandas Series that contains the following data: 4, 8, 15, 16, 23, and 42. Then, print the series."
   ]
  },
  {
   "cell_type": "code",
   "execution_count": 5,
   "id": "95c5b862-9fa3-4745-88dd-5ba5d2cf7c05",
   "metadata": {},
   "outputs": [],
   "source": [
    "import pandas as pd"
   ]
  },
  {
   "cell_type": "code",
   "execution_count": 18,
   "id": "32509539-c416-4f3d-ac2b-0b8494cf3df0",
   "metadata": {},
   "outputs": [],
   "source": [
    "data = [4,8,15,16,23,42]"
   ]
  },
  {
   "cell_type": "code",
   "execution_count": 19,
   "id": "a6d56fce-ebe4-47fe-a3e2-2f191fbee030",
   "metadata": {},
   "outputs": [],
   "source": [
    "series = pd.Series(data)"
   ]
  },
  {
   "cell_type": "code",
   "execution_count": 20,
   "id": "4de191aa-2635-4200-bea0-156c4844554f",
   "metadata": {},
   "outputs": [
    {
     "name": "stdout",
     "output_type": "stream",
     "text": [
      "0     4\n",
      "1     8\n",
      "2    15\n",
      "3    16\n",
      "4    23\n",
      "5    42\n",
      "dtype: int64\n"
     ]
    }
   ],
   "source": [
    "print(series)"
   ]
  },
  {
   "cell_type": "code",
   "execution_count": null,
   "id": "e4cc6278-000f-4219-bb13-ff719e09011b",
   "metadata": {},
   "outputs": [],
   "source": [
    " # Q2.Create a variable of list type containing 10 elements in it, and apply pandas.Series function on the variable print it"
   ]
  },
  {
   "cell_type": "code",
   "execution_count": 23,
   "id": "4dbd778e-fb45-4748-9ea1-cda767f648ec",
   "metadata": {},
   "outputs": [],
   "source": [
    "list = [1,2,3,4,5,6,7,8,9,10]"
   ]
  },
  {
   "cell_type": "code",
   "execution_count": 24,
   "id": "613a3215-f2a9-4800-b4b3-c058cda352c5",
   "metadata": {},
   "outputs": [],
   "source": [
    "series = pd.Series(list)"
   ]
  },
  {
   "cell_type": "code",
   "execution_count": 25,
   "id": "a5c61c79-3c51-41f2-8909-264def33c23c",
   "metadata": {},
   "outputs": [
    {
     "name": "stdout",
     "output_type": "stream",
     "text": [
      "0     1\n",
      "1     2\n",
      "2     3\n",
      "3     4\n",
      "4     5\n",
      "5     6\n",
      "6     7\n",
      "7     8\n",
      "8     9\n",
      "9    10\n",
      "dtype: int64\n"
     ]
    }
   ],
   "source": [
    "print(series)"
   ]
  },
  {
   "cell_type": "code",
   "execution_count": 27,
   "id": "64347366-92a4-4341-839b-bccb2296cb83",
   "metadata": {},
   "outputs": [],
   "source": [
    "# Q3. Create a Pandas DataFrame that contains the following data:\n"
   ]
  },
  {
   "cell_type": "code",
   "execution_count": 28,
   "id": "0502d299-9035-4448-9192-9a6d45790429",
   "metadata": {},
   "outputs": [],
   "source": [
    "data = {'name' : ['Alice','Bob', 'Claire'],\n",
    "        'Age' : [25,30,27],\n",
    "        'gender' : ['Female','Male','Female']}"
   ]
  },
  {
   "cell_type": "code",
   "execution_count": 30,
   "id": "ceae60cd-3def-426f-b0d4-082d30219534",
   "metadata": {},
   "outputs": [],
   "source": [
    "df= pd.DataFrame(data)"
   ]
  },
  {
   "cell_type": "code",
   "execution_count": 31,
   "id": "8cd5374b-6ede-407f-8bd1-a2957805974c",
   "metadata": {},
   "outputs": [
    {
     "name": "stdout",
     "output_type": "stream",
     "text": [
      "     name  Age  gender\n",
      "0   Alice   25  Female\n",
      "1     Bob   30    Male\n",
      "2  Claire   27  Female\n"
     ]
    }
   ],
   "source": [
    "print(df)"
   ]
  },
  {
   "cell_type": "code",
   "execution_count": 32,
   "id": "a5a4415e-c2da-45d3-86eb-7cf1c30b6268",
   "metadata": {},
   "outputs": [],
   "source": [
    "# Q4. What is ‘DataFrame’ in pandas and how is it different from pandas.series? Explain with an example."
   ]
  },
  {
   "cell_type": "code",
   "execution_count": 3,
   "id": "770f936b-8e2d-4bad-a5cc-e5da1c0414d7",
   "metadata": {},
   "outputs": [],
   "source": [
    "import pandas as pd"
   ]
  },
  {
   "cell_type": "code",
   "execution_count": 4,
   "id": "9d385103-6a44-4a18-bf44-96a06b2ad4cd",
   "metadata": {},
   "outputs": [],
   "source": [
    "# creating a DataFrame\n",
    "data = {'name' : ['Alice','Bob', 'Claire'],\n",
    "        'Age' : [25,30,27],\n",
    "        'gender' : ['Female','Male','Female']}"
   ]
  },
  {
   "cell_type": "code",
   "execution_count": 5,
   "id": "5a3f05b2-f0da-4836-89ba-515d98be122b",
   "metadata": {},
   "outputs": [],
   "source": [
    "df1 = pd.DataFrame(data)"
   ]
  },
  {
   "cell_type": "code",
   "execution_count": 7,
   "id": "7264b068-a255-4b65-81ec-edfcb3cd2bd5",
   "metadata": {},
   "outputs": [
    {
     "name": "stdout",
     "output_type": "stream",
     "text": [
      "     name  Age  gender\n",
      "0   Alice   25  Female\n",
      "1     Bob   30    Male\n",
      "2  Claire   27  Female\n"
     ]
    }
   ],
   "source": [
    "print (df1)"
   ]
  },
  {
   "cell_type": "code",
   "execution_count": 8,
   "id": "9b623c0b-d7b7-4179-a512-95ea19681fbf",
   "metadata": {},
   "outputs": [],
   "source": [
    "# Creating pandas Series"
   ]
  },
  {
   "cell_type": "code",
   "execution_count": 14,
   "id": "fefbbc1e-faab-4b31-a12c-ad6a05328733",
   "metadata": {},
   "outputs": [],
   "source": [
    "data1 = pd.Series(['Apple', 'Banana', 'Mango', 'Orange',23232])"
   ]
  },
  {
   "cell_type": "code",
   "execution_count": 15,
   "id": "c2ad2339-5711-495b-b0da-ceb971ad0faf",
   "metadata": {},
   "outputs": [
    {
     "name": "stdout",
     "output_type": "stream",
     "text": [
      "0     Apple\n",
      "1    Banana\n",
      "2     Mango\n",
      "3    Orange\n",
      "4     23232\n",
      "dtype: object\n"
     ]
    }
   ],
   "source": [
    "print (data1)"
   ]
  },
  {
   "cell_type": "code",
   "execution_count": 16,
   "id": "877a5af6-940d-4925-b35a-5229488f4bf5",
   "metadata": {},
   "outputs": [],
   "source": [
    "# In pandas, a DataFrame is a two-dimensional labeled data structure with columns of potentially different data types. It is similar to a table or spreadsheet in which data is organized in rows and columns. A DataFrame can be thought of as a collection of Pandas Series objects where each column represents a Series.\n",
    "\n",
    "# a Series is a one-dimensional labeled array that can hold any data type. It can be seen as a single column of a DataFrame. Each element in a Series has a unique label called an index."
   ]
  },
  {
   "cell_type": "code",
   "execution_count": 17,
   "id": "24d94c46-ea04-4db4-95f7-930147135d6f",
   "metadata": {},
   "outputs": [],
   "source": [
    "# Q5. What are some common functions you can use to manipulate data in a Pandas DataFrame? Can \n",
    "# you give an example of when you might use one of these functions?"
   ]
  },
  {
   "cell_type": "code",
   "execution_count": 23,
   "id": "11034bab-4258-4d1e-a6e2-cdb2a3dd4b4d",
   "metadata": {},
   "outputs": [
    {
     "name": "stdout",
     "output_type": "stream",
     "text": [
      "      name  age\n",
      "0    laddu   23\n",
      "1    patlu   45\n",
      "2     nive   76\n",
      "3  pshukla   24\n",
      "4   shukla   98\n"
     ]
    }
   ],
   "source": [
    "# here are some common functions to manipulate data with example.\n",
    "import pandas as pd\n",
    "data = {'name' : ['laddu','patlu','nive','pshukla','shukla'],\n",
    "        'age' : [23,45,76,24,98]}\n",
    "df =pd.DataFrame(data)\n",
    "print(df)"
   ]
  },
  {
   "cell_type": "code",
   "execution_count": 24,
   "id": "62d4f71b-066f-4b59-993b-3def7632d276",
   "metadata": {},
   "outputs": [
    {
     "name": "stdout",
     "output_type": "stream",
     "text": [
      "    name  age\n",
      "0  laddu   23\n",
      "1  patlu   45\n"
     ]
    }
   ],
   "source": [
    "# 01 head functions used to display the first few rows\n",
    "print(df.head(2)) #display the first two rows of the dataframe."
   ]
  },
  {
   "cell_type": "code",
   "execution_count": 29,
   "id": "b50e641e-75df-4e1f-a388-1f03faf287a0",
   "metadata": {},
   "outputs": [
    {
     "name": "stdout",
     "output_type": "stream",
     "text": [
      "      name  age\n",
      "3  pshukla   24\n",
      "4   shukla   98\n"
     ]
    }
   ],
   "source": [
    "# 02 tail functions used to display the last few rows.\n",
    "print(df.tail(2)) #display the Last two rows of the dataframe."
   ]
  },
  {
   "cell_type": "code",
   "execution_count": 30,
   "id": "f6fe2975-44e2-4276-8bf9-745e52295d44",
   "metadata": {},
   "outputs": [
    {
     "name": "stdout",
     "output_type": "stream",
     "text": [
      "<bound method NDFrame.describe of       name  age\n",
      "0    laddu   23\n",
      "1    patlu   45\n",
      "2     nive   76\n",
      "3  pshukla   24\n",
      "4   shukla   98>\n"
     ]
    }
   ],
   "source": [
    "print(df.describe)"
   ]
  },
  {
   "cell_type": "code",
   "execution_count": 31,
   "id": "6f2aa9ed-48b9-4924-8ad5-a65b7c14ab09",
   "metadata": {},
   "outputs": [
    {
     "name": "stdout",
     "output_type": "stream",
     "text": [
      "             age\n",
      "count   5.000000\n",
      "mean   53.200000\n",
      "std    33.010604\n",
      "min    23.000000\n",
      "25%    24.000000\n",
      "50%    45.000000\n",
      "75%    76.000000\n",
      "max    98.000000\n"
     ]
    }
   ],
   "source": [
    "# describe(): This function provides a summary of statistics for numerical columns in the DataFrame, such as count, mean, standard deviation, minimum, and maximum values.\n",
    "# Creating a DataFrame\n",
    "data1 = {'Age': [25, 30, 35, 28, 22,34,65]}\n",
    "df1 = pd.DataFrame(data)\n",
    "\n",
    "print(df1.describe())"
   ]
  },
  {
   "cell_type": "code",
   "execution_count": 32,
   "id": "e3dfb42e-2d2c-4e8a-927a-ec9887fe06c1",
   "metadata": {},
   "outputs": [
    {
     "name": "stdout",
     "output_type": "stream",
     "text": [
      "      name  age\n",
      "0    laddu   23\n",
      "1    patlu   45\n",
      "2     nive   76\n",
      "3  pshukla   24\n",
      "4   shukla   98\n"
     ]
    }
   ],
   "source": [
    "print(df)"
   ]
  },
  {
   "cell_type": "code",
   "execution_count": 45,
   "id": "d31cb4ad-13a4-4af4-8083-e58c259b853d",
   "metadata": {},
   "outputs": [],
   "source": [
    "# sort_values(): This function is used to sort the DataFrame by one or more columns.\n",
    "sort = df.sort_values(by=['name','age'],ascending=True)"
   ]
  },
  {
   "cell_type": "code",
   "execution_count": 46,
   "id": "85fc4fcb-b2df-4496-acbb-9224a192e65d",
   "metadata": {},
   "outputs": [
    {
     "name": "stdout",
     "output_type": "stream",
     "text": [
      "      name  age\n",
      "0    laddu   23\n",
      "2     nive   76\n",
      "1    patlu   45\n",
      "3  pshukla   24\n",
      "4   shukla   98\n"
     ]
    }
   ],
   "source": [
    "print (sort)"
   ]
  },
  {
   "cell_type": "code",
   "execution_count": 55,
   "id": "99cdbf4d-aa62-4e34-9b43-7338ce3fff0e",
   "metadata": {},
   "outputs": [
    {
     "name": "stdout",
     "output_type": "stream",
     "text": [
      "name\n",
      "laddu      23.0\n",
      "nive       76.0\n",
      "patlu      45.0\n",
      "pshukla    24.0\n",
      "shukla     98.0\n",
      "Name: age, dtype: float64\n"
     ]
    }
   ],
   "source": [
    "# Group the data by the 'Name' column and calculate the average age for each name\n",
    "group = df.groupby('name')['age'].mean()\n",
    "print(group)\n",
    "# These are just a few examples of common functions available in pandas to manipulate data in a DataFrame.\n",
    "# The library offers many more powerful functions for filtering, merging, transforming, and analyzing data in various ways."
   ]
  },
  {
   "cell_type": "code",
   "execution_count": 56,
   "id": "e267292a-3526-4413-acd4-94f3e6f87335",
   "metadata": {},
   "outputs": [],
   "source": [
    "# Q6.Which of the following is mutable in nature Series, DataFrame, Panel?\n",
    "# both Series and DataFrame are mutable in nature, while the Panel object is no longer recommended for use."
   ]
  },
  {
   "cell_type": "code",
   "execution_count": 73,
   "id": "d2bc2e38-6750-42d6-80c9-b86366bc7e11",
   "metadata": {},
   "outputs": [
    {
     "name": "stdout",
     "output_type": "stream",
     "text": [
      "      Name  Age  Gender\n",
      "0  pshukla   25    Male\n",
      "1    laddu   30  Female\n",
      "2    patlu   35  Female\n",
      "3    Kattu   45    Male\n"
     ]
    }
   ],
   "source": [
    "# Q7. Create a DataFrame using multiple Series. Explain with an example.\n",
    "# Creating multiple Series\n",
    "import pandas as pd\n",
    "name_series = pd.Series(['pshukla', 'laddu', 'patlu','Kattu'])\n",
    "age_series = pd.Series([25, 30, 35,45])\n",
    "gender_series = pd.Series(['Male', 'Female', 'Female','Male'])\n",
    "\n",
    "# Creating a DataFrame using the Series\n",
    "data = {'Name': name_series, 'Age': age_series, 'Gender': gender_series}\n",
    "df = pd.DataFrame(data)\n",
    "\n",
    "print(df)"
   ]
  },
  {
   "cell_type": "code",
   "execution_count": 69,
   "id": "e594276c-aa84-426f-a77a-b62a794427a2",
   "metadata": {},
   "outputs": [],
   "source": []
  },
  {
   "cell_type": "code",
   "execution_count": 72,
   "id": "24cf8a88-9102-4e29-89b3-6e29a003e095",
   "metadata": {},
   "outputs": [],
   "source": []
  },
  {
   "cell_type": "code",
   "execution_count": null,
   "id": "8b2f9da9-4574-41e5-9a32-bded0cb74a18",
   "metadata": {},
   "outputs": [],
   "source": []
  }
 ],
 "metadata": {
  "kernelspec": {
   "display_name": "Python 3 (ipykernel)",
   "language": "python",
   "name": "python3"
  },
  "language_info": {
   "codemirror_mode": {
    "name": "ipython",
    "version": 3
   },
   "file_extension": ".py",
   "mimetype": "text/x-python",
   "name": "python",
   "nbconvert_exporter": "python",
   "pygments_lexer": "ipython3",
   "version": "3.10.8"
  }
 },
 "nbformat": 4,
 "nbformat_minor": 5
}
